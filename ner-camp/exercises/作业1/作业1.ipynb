{
 "cells": [
  {
   "cell_type": "markdown",
   "metadata": {
    "id": "DFE5361429FE4A199B23D9007741745E",
    "jupyter": {},
    "mdEditEnable": false,
    "notebookId": "61e189e7c8a9ae00178ca96e",
    "slideshow": {
     "slide_type": "slide"
    },
    "tags": []
   },
   "source": [
    "## 作业1\n",
    "\n",
    "> 特简单\n",
    "\n",
    "\n",
    "- Q1命名实体识别的英文名称叫什么？\n",
    "答案：提示三个单词，首字母大写，单词之间空格，比如Xxx Xxx Xxx\n",
    "\n",
    "\n",
    "- Q2 标签“B-ORG”中ORG的英文全称是什么？\n",
    "答案：单词全小写\n",
    "\n",
    "\n",
    "\n",
    "- Q3 标签“I-ORG”中I的英文全称是什么？\n",
    "答案：单词全小写\n",
    "\n",
    "\n",
    "\n",
    "- Q4 BIOES标注模式中S的全称单词是什么？\n",
    "答案：单词全小写\n",
    "\n",
    "\n",
    "\n",
    "\n",
    "- Q5 HMM是判别模型，CRF是生成模型，判断这句正确还是错误？\n",
    "\n",
    "答案：正确 或者 错误\n"
   ]
  },
  {
   "cell_type": "code",
   "execution_count": 1,
   "metadata": {
    "collapsed": false,
    "id": "3DD281F87EE844968DF1DD09A46BC9C6",
    "jupyter": {
     "outputs_hidden": false
    },
    "notebookId": "61e189e7c8a9ae00178ca96e",
    "slideshow": {
     "slide_type": "slide"
    },
    "tags": []
   },
   "outputs": [],
   "source": [
    "import pandas as pd"
   ]
  },
  {
   "cell_type": "code",
   "execution_count": 2,
   "metadata": {
    "collapsed": false,
    "id": "BB1165417E22467C9810B3F9DBF3E989",
    "jupyter": {
     "outputs_hidden": false
    },
    "notebookId": "61e189e7c8a9ae00178ca96e",
    "slideshow": {
     "slide_type": "slide"
    },
    "tags": []
   },
   "outputs": [],
   "source": [
    "answer=pd.DataFrame()"
   ]
  },
  {
   "cell_type": "code",
   "execution_count": 3,
   "metadata": {
    "collapsed": false,
    "id": "2E8C5066658940188CAA0BE980498B75",
    "jupyter": {
     "outputs_hidden": false
    },
    "notebookId": "61e189e7c8a9ae00178ca96e",
    "slideshow": {
     "slide_type": "slide"
    },
    "tags": []
   },
   "outputs": [],
   "source": [
    "answer['id']=['Q1','Q2','Q3','Q4','Q5']\n",
    "answer['answer']=[\n",
    "    'Xxx Xxx Xxx',\n",
    "'org',\n",
    "'i',\n",
    "'s',\n",
    "'正确'\n",
    "]"
   ]
  },
  {
   "cell_type": "code",
   "execution_count": 4,
   "metadata": {
    "collapsed": false,
    "id": "B70D26EC04DD4FF288B48E10903D128D",
    "jupyter": {
     "outputs_hidden": false
    },
    "notebookId": "61e189e7c8a9ae00178ca96e",
    "slideshow": {
     "slide_type": "slide"
    },
    "tags": []
   },
   "outputs": [
    {
     "data": {
      "text/html": [
       "<div>\n",
       "<style scoped>\n",
       "    .dataframe tbody tr th:only-of-type {\n",
       "        vertical-align: middle;\n",
       "    }\n",
       "\n",
       "    .dataframe tbody tr th {\n",
       "        vertical-align: top;\n",
       "    }\n",
       "\n",
       "    .dataframe thead th {\n",
       "        text-align: right;\n",
       "    }\n",
       "</style>\n",
       "<table border=\"1\" class=\"dataframe\">\n",
       "  <thead>\n",
       "    <tr style=\"text-align: right;\">\n",
       "      <th></th>\n",
       "      <th>id</th>\n",
       "      <th>answer</th>\n",
       "    </tr>\n",
       "  </thead>\n",
       "  <tbody>\n",
       "    <tr>\n",
       "      <th>0</th>\n",
       "      <td>Q1</td>\n",
       "      <td>Xxx Xxx Xxx</td>\n",
       "    </tr>\n",
       "    <tr>\n",
       "      <th>1</th>\n",
       "      <td>Q2</td>\n",
       "      <td>org</td>\n",
       "    </tr>\n",
       "    <tr>\n",
       "      <th>2</th>\n",
       "      <td>Q3</td>\n",
       "      <td>i</td>\n",
       "    </tr>\n",
       "    <tr>\n",
       "      <th>3</th>\n",
       "      <td>Q4</td>\n",
       "      <td>s</td>\n",
       "    </tr>\n",
       "    <tr>\n",
       "      <th>4</th>\n",
       "      <td>Q5</td>\n",
       "      <td>正确</td>\n",
       "    </tr>\n",
       "  </tbody>\n",
       "</table>\n",
       "</div>"
      ],
      "text/plain": [
       "   id       answer\n",
       "0  Q1  Xxx Xxx Xxx\n",
       "1  Q2          org\n",
       "2  Q3            i\n",
       "3  Q4            s\n",
       "4  Q5           正确"
      ]
     },
     "execution_count": 4,
     "metadata": {},
     "output_type": "execute_result"
    }
   ],
   "source": [
    "answer"
   ]
  },
  {
   "cell_type": "code",
   "execution_count": 5,
   "metadata": {
    "collapsed": false,
    "id": "6D5E71456F25423880FAE8386165CB44",
    "jupyter": {
     "outputs_hidden": false
    },
    "notebookId": "61e189e7c8a9ae00178ca96e",
    "slideshow": {
     "slide_type": "slide"
    },
    "tags": []
   },
   "outputs": [],
   "source": [
    "answer.to_csv('作业1.csv',index=None)"
   ]
  },
  {
   "cell_type": "code",
   "execution_count": null,
   "metadata": {
    "id": "E5CD6D80252C4CDA8B094241A51480EB",
    "jupyter": {},
    "notebookId": "61e189e7c8a9ae00178ca96e",
    "slideshow": {
     "slide_type": "slide"
    },
    "tags": []
   },
   "outputs": [],
   "source": []
  }
 ],
 "metadata": {
  "kernelspec": {
   "display_name": "Python 3 (ipykernel)",
   "language": "python",
   "name": "python3"
  },
  "language_info": {
   "codemirror_mode": {
    "name": "ipython",
    "version": 3
   },
   "file_extension": ".py",
   "mimetype": "text/x-python",
   "name": "python",
   "nbconvert_exporter": "python",
   "pygments_lexer": "ipython3",
   "version": "3.9.7"
  }
 },
 "nbformat": 4,
 "nbformat_minor": 4
}
