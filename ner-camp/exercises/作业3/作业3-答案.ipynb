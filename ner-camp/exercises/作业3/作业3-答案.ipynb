{
 "cells": [
  {
   "cell_type": "markdown",
   "metadata": {
    "id": "DFE5361429FE4A199B23D9007741745E",
    "jupyter": {},
    "mdEditEnable": false,
    "notebookId": "61e189e7c8a9ae00178ca96e",
    "slideshow": {
     "slide_type": "slide"
    },
    "tags": []
   },
   "source": [
    "## 作业3\n",
    "答案属于绝对匹配；\n",
    "仔细确认每道题目的说明格式，比如什么时候用 \";\" 什么时候用 \",\"，中文标点还是英文标点，不要随便加空格等\n",
    "\n",
    "\n",
    "\n",
    "- Q1 下列那种模型不是词向量模型？\n",
    "```\n",
    "A. Word2Vec\n",
    "B. Glove\n",
    "C. Fasttext\n",
    "D. svm\n",
    "```\n",
    "    答案：四选一 例如A\n",
    "- Q2 关于深度学习在NER的建模，下列哪个算法流程是正确的？\n",
    "\n",
    "```\n",
    "1.文本分布式表示\n",
    "2.深度语义特征\n",
    "3.序列标签解码\n",
    "```\n",
    "```\n",
    "A. 123\n",
    "B. 132\n",
    "C. 321\n",
    "D. 213\n",
    "```\n",
    "    答案：四选一 例如A\n",
    "\n",
    "\n",
    "- Q3 下列不是NER使用深度学习的原因\n",
    "\n",
    "```\n",
    "A. NER适用于非线性转化\n",
    "B. 深度学习节省了设计NER功能的大量精力\n",
    "C. 深度学习训练很快\n",
    "D. 深度学习能通过梯度传播来训练，这样可以构建更复杂的网络\n",
    "\n",
    "\n",
    "答案：四选一 例如A\n",
    "```\n",
    "\n",
    "- Q4 word2vec有两种算法，除了Skip-Gram，另一个是？\n",
    "\n",
    "> 答案：四个大写字母，全部大写XXXX\n",
    "\n",
    "\n",
    "\n",
    "\n",
    "\n",
    "\n",
    "- Q5 关于深度学习中NER的输入文本的分布式表示，下列描述是否正确？\n",
    "\n",
    "> 除了有词级别表示和字符级别表示，还可以加入混合信息表示，比如语义信息、词性等等\n",
    "\n",
    ">答案：正确 或者 错误\n",
    "\n",
    "\n",
    "\n",
    "以下为提交样例"
   ]
  },
  {
   "cell_type": "code",
   "execution_count": 1,
   "metadata": {
    "collapsed": false,
    "id": "3DD281F87EE844968DF1DD09A46BC9C6",
    "jupyter": {
     "outputs_hidden": false
    },
    "notebookId": "61e189e7c8a9ae00178ca96e",
    "slideshow": {
     "slide_type": "slide"
    },
    "tags": []
   },
   "outputs": [],
   "source": [
    "import pandas as pd"
   ]
  },
  {
   "cell_type": "code",
   "execution_count": 2,
   "metadata": {
    "collapsed": false,
    "id": "BB1165417E22467C9810B3F9DBF3E989",
    "jupyter": {
     "outputs_hidden": false
    },
    "notebookId": "61e189e7c8a9ae00178ca96e",
    "slideshow": {
     "slide_type": "slide"
    },
    "tags": []
   },
   "outputs": [],
   "source": [
    "answer=pd.DataFrame()"
   ]
  },
  {
   "cell_type": "code",
   "execution_count": 3,
   "metadata": {
    "collapsed": false,
    "id": "2E8C5066658940188CAA0BE980498B75",
    "jupyter": {
     "outputs_hidden": false
    },
    "notebookId": "61e189e7c8a9ae00178ca96e",
    "slideshow": {
     "slide_type": "slide"
    },
    "tags": []
   },
   "outputs": [],
   "source": [
    "answer['id']=['Q1','Q2','Q3','Q4','Q5']\n",
    "answer['answer']=[\n",
    "    'D',\n",
    "'A',\n",
    "'C',\n",
    "'CBOW',\n",
    "'正确'\n",
    "]"
   ]
  },
  {
   "cell_type": "code",
   "execution_count": 4,
   "metadata": {
    "collapsed": false,
    "id": "B70D26EC04DD4FF288B48E10903D128D",
    "jupyter": {
     "outputs_hidden": false
    },
    "notebookId": "61e189e7c8a9ae00178ca96e",
    "slideshow": {
     "slide_type": "slide"
    },
    "tags": []
   },
   "outputs": [
    {
     "data": {
      "text/html": [
       "<div>\n",
       "<style scoped>\n",
       "    .dataframe tbody tr th:only-of-type {\n",
       "        vertical-align: middle;\n",
       "    }\n",
       "\n",
       "    .dataframe tbody tr th {\n",
       "        vertical-align: top;\n",
       "    }\n",
       "\n",
       "    .dataframe thead th {\n",
       "        text-align: right;\n",
       "    }\n",
       "</style>\n",
       "<table border=\"1\" class=\"dataframe\">\n",
       "  <thead>\n",
       "    <tr style=\"text-align: right;\">\n",
       "      <th></th>\n",
       "      <th>id</th>\n",
       "      <th>answer</th>\n",
       "    </tr>\n",
       "  </thead>\n",
       "  <tbody>\n",
       "    <tr>\n",
       "      <th>0</th>\n",
       "      <td>Q1</td>\n",
       "      <td>D</td>\n",
       "    </tr>\n",
       "    <tr>\n",
       "      <th>1</th>\n",
       "      <td>Q2</td>\n",
       "      <td>A</td>\n",
       "    </tr>\n",
       "    <tr>\n",
       "      <th>2</th>\n",
       "      <td>Q3</td>\n",
       "      <td>C</td>\n",
       "    </tr>\n",
       "    <tr>\n",
       "      <th>3</th>\n",
       "      <td>Q4</td>\n",
       "      <td>CBOW</td>\n",
       "    </tr>\n",
       "    <tr>\n",
       "      <th>4</th>\n",
       "      <td>Q5</td>\n",
       "      <td>正确</td>\n",
       "    </tr>\n",
       "  </tbody>\n",
       "</table>\n",
       "</div>"
      ],
      "text/plain": [
       "   id answer\n",
       "0  Q1      D\n",
       "1  Q2      A\n",
       "2  Q3      C\n",
       "3  Q4   CBOW\n",
       "4  Q5     正确"
      ]
     },
     "execution_count": 4,
     "metadata": {},
     "output_type": "execute_result"
    }
   ],
   "source": [
    "answer"
   ]
  },
  {
   "cell_type": "code",
   "execution_count": 5,
   "metadata": {
    "collapsed": false,
    "id": "6D5E71456F25423880FAE8386165CB44",
    "jupyter": {
     "outputs_hidden": false
    },
    "notebookId": "61e189e7c8a9ae00178ca96e",
    "slideshow": {
     "slide_type": "slide"
    },
    "tags": []
   },
   "outputs": [],
   "source": [
    "answer.to_csv('作业3-答案.csv',index=None)"
   ]
  },
  {
   "cell_type": "code",
   "execution_count": null,
   "metadata": {
    "id": "E5CD6D80252C4CDA8B094241A51480EB",
    "jupyter": {},
    "notebookId": "61e189e7c8a9ae00178ca96e",
    "slideshow": {
     "slide_type": "slide"
    },
    "tags": []
   },
   "outputs": [],
   "source": []
  }
 ],
 "metadata": {
  "kernelspec": {
   "display_name": "Python 3 (ipykernel)",
   "language": "python",
   "name": "python3"
  },
  "language_info": {
   "codemirror_mode": {
    "name": "ipython",
    "version": 3
   },
   "file_extension": ".py",
   "mimetype": "text/x-python",
   "name": "python",
   "nbconvert_exporter": "python",
   "pygments_lexer": "ipython3",
   "version": "3.9.7"
  }
 },
 "nbformat": 4,
 "nbformat_minor": 4
}
