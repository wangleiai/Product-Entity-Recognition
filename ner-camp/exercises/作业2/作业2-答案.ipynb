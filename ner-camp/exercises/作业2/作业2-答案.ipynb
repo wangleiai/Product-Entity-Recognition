{
 "cells": [
  {
   "cell_type": "markdown",
   "metadata": {
    "id": "DFE5361429FE4A199B23D9007741745E",
    "jupyter": {},
    "mdEditEnable": false,
    "notebookId": "61e189e7c8a9ae00178ca96e",
    "slideshow": {
     "slide_type": "slide"
    },
    "tags": []
   },
   "source": [
    "## 作业2\n",
    "\n",
    "> 特简单\n",
    "\n",
    "\n",
    "- Q1 CRF的英文全称是什么？\n",
    "答案：提示三个单词，首字母大写，单词之间空格，比如Xxx Xxx Xxx\n",
    "\n",
    "\n",
    "- Q2 CRF++工具可以用来做什么任务？\n",
    "\n",
    "A. 文本分类\n",
    "B. 文本生成\n",
    "C. 序列标注\n",
    "D. 文本翻译\n",
    "\n",
    "答案：四选一 例如A\n",
    "\n",
    "\n",
    "- Q3 CRF++ 训练命令中 -m 参数的作用？\n",
    "A. 最大迭代次数\n",
    "B. 代价参数\n",
    "C. 终止标准\n",
    "D. 线程个数\n",
    "\n",
    "答案：四选一 例如A\n",
    "\n",
    "\n",
    "\n",
    "- Q4 关于CRF与HMM，下列描述是否正确？\n",
    "> HMM是概率有向图，CRF是概率无向图\n",
    "\n",
    "答案：正确 或者 错误\n",
    "\n",
    "\n",
    "\n",
    "\n",
    "\n",
    "- Q5 关于CRF作用，下列描述是否正确？\n",
    "> CRF层可以为最后预测的标签添加一些约束来保证预测的标签是合法的。在训练数据训练过程中，这些约束可以通过CRF层自动学习到的。\n",
    "\n",
    "答案：正确 或者 错误\n"
   ]
  },
  {
   "cell_type": "code",
   "execution_count": 1,
   "metadata": {
    "collapsed": false,
    "id": "3DD281F87EE844968DF1DD09A46BC9C6",
    "jupyter": {
     "outputs_hidden": false
    },
    "notebookId": "61e189e7c8a9ae00178ca96e",
    "slideshow": {
     "slide_type": "slide"
    },
    "tags": []
   },
   "outputs": [],
   "source": [
    "import pandas as pd"
   ]
  },
  {
   "cell_type": "code",
   "execution_count": 2,
   "metadata": {
    "collapsed": false,
    "id": "BB1165417E22467C9810B3F9DBF3E989",
    "jupyter": {
     "outputs_hidden": false
    },
    "notebookId": "61e189e7c8a9ae00178ca96e",
    "slideshow": {
     "slide_type": "slide"
    },
    "tags": []
   },
   "outputs": [],
   "source": [
    "answer=pd.DataFrame()"
   ]
  },
  {
   "cell_type": "code",
   "execution_count": 3,
   "metadata": {
    "collapsed": false,
    "id": "2E8C5066658940188CAA0BE980498B75",
    "jupyter": {
     "outputs_hidden": false
    },
    "notebookId": "61e189e7c8a9ae00178ca96e",
    "slideshow": {
     "slide_type": "slide"
    },
    "tags": []
   },
   "outputs": [],
   "source": [
    "answer['id']=['Q1','Q2','Q3','Q4','Q5']\n",
    "answer['answer']=[\n",
    "    'Conditional Random Field',\n",
    "'C',\n",
    "'A',\n",
    "'正确',\n",
    "'正确'\n",
    "]"
   ]
  },
  {
   "cell_type": "code",
   "execution_count": 4,
   "metadata": {
    "collapsed": false,
    "id": "B70D26EC04DD4FF288B48E10903D128D",
    "jupyter": {
     "outputs_hidden": false
    },
    "notebookId": "61e189e7c8a9ae00178ca96e",
    "slideshow": {
     "slide_type": "slide"
    },
    "tags": []
   },
   "outputs": [
    {
     "data": {
      "text/html": [
       "<div>\n",
       "<style scoped>\n",
       "    .dataframe tbody tr th:only-of-type {\n",
       "        vertical-align: middle;\n",
       "    }\n",
       "\n",
       "    .dataframe tbody tr th {\n",
       "        vertical-align: top;\n",
       "    }\n",
       "\n",
       "    .dataframe thead th {\n",
       "        text-align: right;\n",
       "    }\n",
       "</style>\n",
       "<table border=\"1\" class=\"dataframe\">\n",
       "  <thead>\n",
       "    <tr style=\"text-align: right;\">\n",
       "      <th></th>\n",
       "      <th>id</th>\n",
       "      <th>answer</th>\n",
       "    </tr>\n",
       "  </thead>\n",
       "  <tbody>\n",
       "    <tr>\n",
       "      <th>0</th>\n",
       "      <td>Q1</td>\n",
       "      <td>Conditional Random Field</td>\n",
       "    </tr>\n",
       "    <tr>\n",
       "      <th>1</th>\n",
       "      <td>Q2</td>\n",
       "      <td>C</td>\n",
       "    </tr>\n",
       "    <tr>\n",
       "      <th>2</th>\n",
       "      <td>Q3</td>\n",
       "      <td>A</td>\n",
       "    </tr>\n",
       "    <tr>\n",
       "      <th>3</th>\n",
       "      <td>Q4</td>\n",
       "      <td>正确</td>\n",
       "    </tr>\n",
       "    <tr>\n",
       "      <th>4</th>\n",
       "      <td>Q5</td>\n",
       "      <td>正确</td>\n",
       "    </tr>\n",
       "  </tbody>\n",
       "</table>\n",
       "</div>"
      ],
      "text/plain": [
       "   id                    answer\n",
       "0  Q1  Conditional Random Field\n",
       "1  Q2                         C\n",
       "2  Q3                         A\n",
       "3  Q4                        正确\n",
       "4  Q5                        正确"
      ]
     },
     "execution_count": 4,
     "metadata": {},
     "output_type": "execute_result"
    }
   ],
   "source": [
    "answer"
   ]
  },
  {
   "cell_type": "code",
   "execution_count": 5,
   "metadata": {
    "collapsed": false,
    "id": "6D5E71456F25423880FAE8386165CB44",
    "jupyter": {
     "outputs_hidden": false
    },
    "notebookId": "61e189e7c8a9ae00178ca96e",
    "slideshow": {
     "slide_type": "slide"
    },
    "tags": []
   },
   "outputs": [],
   "source": [
    "answer.to_csv('作业2-答案.csv',index=None)"
   ]
  },
  {
   "cell_type": "code",
   "execution_count": null,
   "metadata": {
    "id": "E5CD6D80252C4CDA8B094241A51480EB",
    "jupyter": {},
    "notebookId": "61e189e7c8a9ae00178ca96e",
    "slideshow": {
     "slide_type": "slide"
    },
    "tags": []
   },
   "outputs": [],
   "source": []
  }
 ],
 "metadata": {
  "kernelspec": {
   "display_name": "Python 3 (ipykernel)",
   "language": "python",
   "name": "python3"
  },
  "language_info": {
   "codemirror_mode": {
    "name": "ipython",
    "version": 3
   },
   "file_extension": ".py",
   "mimetype": "text/x-python",
   "name": "python",
   "nbconvert_exporter": "python",
   "pygments_lexer": "ipython3",
   "version": "3.9.7"
  }
 },
 "nbformat": 4,
 "nbformat_minor": 4
}
