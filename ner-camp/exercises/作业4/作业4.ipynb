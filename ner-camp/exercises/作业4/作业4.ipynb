{
 "cells": [
  {
   "cell_type": "markdown",
   "metadata": {
    "id": "DFE5361429FE4A199B23D9007741745E",
    "mdEditEnable": false,
    "notebookId": "61e189e7c8a9ae00178ca96e",
    "slideshow": {
     "slide_type": "slide"
    },
    "tags": []
   },
   "source": [
    "## 作业4\n",
    "答案属于绝对匹配；\n",
    "仔细确认每道题目的说明格式，比如什么时候用 \";\" 什么时候用 \",\"，中文标点还是英文标点，不要随便加空格等\n",
    "\n",
    "\n",
    "\n",
    "- Q1 Bert 编码器采用的模型结构为？\n",
    "```\n",
    "A. rnn\n",
    "B. cnn\n",
    "C. transformers\n",
    "D. MLP\n",
    "```\n",
    "    答案：四选一 例如A\n",
    "    \n",
    "    \n",
    "- Q2 Bert的Embedding描述，不包括下列哪一个？\n",
    "\n",
    "```\n",
    "A.Token Embedding\n",
    "B.Segment Embedding\n",
    "C.Position Embedding\n",
    "D.Graph Embedding\n",
    "```\n",
    "\n",
    "    答案：四选一 例如A\n",
    "\n",
    "\n",
    "- Q3 官方Bert-Base模型的hidden size为多少\n",
    "\n",
    "```\n",
    "A. 512\n",
    "B. 256\n",
    "C. 768\n",
    "D. 1024\n",
    "\n",
    "\n",
    "答案：四选一 例如A\n",
    "```\n",
    "\n",
    "- Q4  Bert 采用哪种Normalization结构？\n",
    "\n",
    "> LayerNorm 或者 BatchNorm 回答其中一个\n",
    "\n",
    "\n",
    "\n",
    "\n",
    "\n",
    "\n",
    "- Q5 Bert的预训练任务包括哪些\n",
    "\n",
    "```\n",
    "A. Masked LM \n",
    "B. Next Sentence Prediction\n",
    "C. 两个都是\n",
    "```\n",
    "\n",
    "答案：三选一 例如A\n",
    "\n",
    "以下为提交样例"
   ]
  },
  {
   "cell_type": "code",
   "execution_count": 2,
   "metadata": {
    "collapsed": false,
    "id": "3DD281F87EE844968DF1DD09A46BC9C6",
    "jupyter": {
     "outputs_hidden": false
    },
    "notebookId": "61e189e7c8a9ae00178ca96e",
    "slideshow": {
     "slide_type": "slide"
    },
    "tags": []
   },
   "outputs": [],
   "source": [
    "import pandas as pd"
   ]
  },
  {
   "cell_type": "code",
   "execution_count": 3,
   "metadata": {
    "collapsed": false,
    "id": "BB1165417E22467C9810B3F9DBF3E989",
    "jupyter": {
     "outputs_hidden": false
    },
    "notebookId": "61e189e7c8a9ae00178ca96e",
    "slideshow": {
     "slide_type": "slide"
    },
    "tags": []
   },
   "outputs": [],
   "source": [
    "answer=pd.DataFrame()"
   ]
  },
  {
   "cell_type": "code",
   "execution_count": 4,
   "metadata": {
    "collapsed": false,
    "id": "2E8C5066658940188CAA0BE980498B75",
    "jupyter": {
     "outputs_hidden": false
    },
    "notebookId": "61e189e7c8a9ae00178ca96e",
    "slideshow": {
     "slide_type": "slide"
    },
    "tags": []
   },
   "outputs": [],
   "source": [
    "answer['id']=['Q1','Q2','Q3','Q4','Q5']\n",
    "answer['answer']=[\n",
    "    'A',\n",
    "'A',\n",
    "'B',\n",
    "'LayerNorm',\n",
    "'A'\n",
    "]"
   ]
  },
  {
   "cell_type": "code",
   "execution_count": 4,
   "metadata": {
    "collapsed": false,
    "id": "B70D26EC04DD4FF288B48E10903D128D",
    "jupyter": {
     "outputs_hidden": false
    },
    "notebookId": "61e189e7c8a9ae00178ca96e",
    "slideshow": {
     "slide_type": "slide"
    },
    "tags": []
   },
   "outputs": [
    {
     "data": {
      "text/html": [
       "<div>\n",
       "<style scoped>\n",
       "    .dataframe tbody tr th:only-of-type {\n",
       "        vertical-align: middle;\n",
       "    }\n",
       "\n",
       "    .dataframe tbody tr th {\n",
       "        vertical-align: top;\n",
       "    }\n",
       "\n",
       "    .dataframe thead th {\n",
       "        text-align: right;\n",
       "    }\n",
       "</style>\n",
       "<table border=\"1\" class=\"dataframe\">\n",
       "  <thead>\n",
       "    <tr style=\"text-align: right;\">\n",
       "      <th></th>\n",
       "      <th>id</th>\n",
       "      <th>answer</th>\n",
       "    </tr>\n",
       "  </thead>\n",
       "  <tbody>\n",
       "    <tr>\n",
       "      <th>0</th>\n",
       "      <td>Q1</td>\n",
       "      <td>A</td>\n",
       "    </tr>\n",
       "    <tr>\n",
       "      <th>1</th>\n",
       "      <td>Q2</td>\n",
       "      <td>A</td>\n",
       "    </tr>\n",
       "    <tr>\n",
       "      <th>2</th>\n",
       "      <td>Q3</td>\n",
       "      <td>B</td>\n",
       "    </tr>\n",
       "    <tr>\n",
       "      <th>3</th>\n",
       "      <td>Q4</td>\n",
       "      <td>XXXX</td>\n",
       "    </tr>\n",
       "    <tr>\n",
       "      <th>4</th>\n",
       "      <td>Q5</td>\n",
       "      <td>正确</td>\n",
       "    </tr>\n",
       "  </tbody>\n",
       "</table>\n",
       "</div>"
      ],
      "text/plain": [
       "   id answer\n",
       "0  Q1      A\n",
       "1  Q2      A\n",
       "2  Q3      B\n",
       "3  Q4   XXXX\n",
       "4  Q5     正确"
      ]
     },
     "execution_count": 4,
     "metadata": {},
     "output_type": "execute_result"
    }
   ],
   "source": [
    "answer"
   ]
  },
  {
   "cell_type": "code",
   "execution_count": 5,
   "metadata": {
    "collapsed": false,
    "id": "6D5E71456F25423880FAE8386165CB44",
    "jupyter": {
     "outputs_hidden": false
    },
    "notebookId": "61e189e7c8a9ae00178ca96e",
    "slideshow": {
     "slide_type": "slide"
    },
    "tags": []
   },
   "outputs": [],
   "source": [
    "answer.to_csv('作业4.csv',index=None)"
   ]
  },
  {
   "cell_type": "code",
   "execution_count": null,
   "metadata": {
    "id": "E5CD6D80252C4CDA8B094241A51480EB",
    "jupyter": {},
    "notebookId": "61e189e7c8a9ae00178ca96e",
    "slideshow": {
     "slide_type": "slide"
    },
    "tags": []
   },
   "outputs": [],
   "source": []
  }
 ],
 "metadata": {
  "kernelspec": {
   "display_name": "Python 3 (ipykernel)",
   "language": "python",
   "name": "python3"
  },
  "language_info": {
   "codemirror_mode": {
    "name": "ipython",
    "version": 3
   },
   "file_extension": ".py",
   "mimetype": "text/x-python",
   "name": "python",
   "nbconvert_exporter": "python",
   "pygments_lexer": "ipython3",
   "version": "3.9.7"
  }
 },
 "nbformat": 4,
 "nbformat_minor": 4
}
